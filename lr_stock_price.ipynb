{
  "nbformat": 4,
  "nbformat_minor": 0,
  "metadata": {
    "colab": {
      "name": "lr-stock-price.ipynb",
      "provenance": [],
      "collapsed_sections": [],
      "authorship_tag": "ABX9TyMjqOuGKV5VQpSiJJS8dNOj",
      "include_colab_link": true
    },
    "kernelspec": {
      "name": "python3",
      "display_name": "Python 3"
    }
  },
  "cells": [
    {
      "cell_type": "markdown",
      "metadata": {
        "id": "view-in-github",
        "colab_type": "text"
      },
      "source": [
        "<a href=\"https://colab.research.google.com/github/ionut-banu/lr-stock-prices/blob/main/lr_stock_price.ipynb\" target=\"_parent\"><img src=\"https://colab.research.google.com/assets/colab-badge.svg\" alt=\"Open In Colab\"/></a>"
      ]
    },
    {
      "cell_type": "markdown",
      "metadata": {
        "id": "dPqPro-HX5iC"
      },
      "source": [
        "# Imports"
      ]
    },
    {
      "cell_type": "code",
      "metadata": {
        "id": "ZavZau_ZX9zl"
      },
      "source": [
        "from pandas_datareader import data\n",
        "from matplotlib import pyplot as plt\n",
        "from sklearn.linear_model import LinearRegression\n",
        "import matplotlib.dates as mdates\n",
        "import pandas as pd\n",
        "import numpy as np"
      ],
      "execution_count": null,
      "outputs": []
    },
    {
      "cell_type": "markdown",
      "metadata": {
        "id": "vCUYLmIQkGrh"
      },
      "source": [
        "# Utils"
      ]
    },
    {
      "cell_type": "code",
      "metadata": {
        "id": "bBXbUjeekF-u"
      },
      "source": [
        "def predict(X, y, date):\n",
        "    # m - number of examples\n",
        "    # n - number of features\n",
        "    m, n = X.shape\n",
        "\n",
        "    # test set is 30%\n",
        "    # train set is 70%\n",
        "    ratio = 0.4\n",
        "    X_test = X.loc[:np.floor(m*ratio)]\n",
        "    X_train = X.loc[np.floor(m*ratio)+1:]\n",
        "\n",
        "    y_test = y.loc[:np.floor(m*ratio)]\n",
        "    y_train = y.loc[np.floor(m*ratio)+1:]\n",
        "\n",
        "    date_test = date.loc[:np.floor(m*ratio)]\n",
        "    date_train = date.loc[np.floor(m*ratio)+1:]\n",
        "\n",
        "    # Create linear regression object\n",
        "    lr = LinearRegression()\n",
        "\n",
        "    # Train the model using the training sets\n",
        "    lr.fit(X_train, y_train)\n",
        "\n",
        "    # The coefficients\n",
        "    print('Coefficients: \\n', lr.coef_)\n",
        "    # The mean square error\n",
        "    print(\"Number of variables: %d; Residual sum of squares: %.2f; Variance score: %.2f\"\n",
        "          % (n, np.mean((lr.predict(X_test) - y_test) ** 2), lr.score(X_test, y_test)))\n",
        "    plot_data(date_test, lr.predict(X_test), y_test, 'Historical chart', symbol)\n",
        "    plot_data(date, lr.predict(X), y, 'Historical chart', symbol)\n",
        "    return lr\n",
        "    \n",
        "def plot_data(x, predict, y, title, suptitle):\n",
        "    plt.xticks(rotation=45)\n",
        "    plt.plot_date(x, y, fmt='b-', xdate=True, ydate=False, label='Real value')\n",
        "    if predict is not None:\n",
        "      plt.plot_date(x, predict, fmt='r-', xdate=True, ydate=False, label='Predicted value')\n",
        "    plt.legend(loc='upper center')\n",
        "    plt.ylabel('Close prices')\n",
        "    plt.title(title, y=1.1)\n",
        "    plt.suptitle(suptitle, y=0.97)\n",
        "    plt.grid()\n",
        "    plt.show()\n"
      ],
      "execution_count": null,
      "outputs": []
    },
    {
      "cell_type": "markdown",
      "metadata": {
        "id": "KNhVjrrCWYij"
      },
      "source": [
        "# Import data"
      ]
    },
    {
      "cell_type": "code",
      "metadata": {
        "id": "-3mEcaJuG9Yx"
      },
      "source": [
        "symbol = 'FB'\n",
        "data_source='yahoo'\n",
        "start_date = '2019-11-01'\n",
        "end_date = '2020-11-01'\n",
        "\n",
        "df = data.DataReader(symbol, data_source, start_date, end_date)\n",
        "df.reset_index(inplace=True,drop=False)"
      ],
      "execution_count": null,
      "outputs": []
    },
    {
      "cell_type": "markdown",
      "metadata": {
        "id": "ZO-5-lZKat3q"
      },
      "source": [
        "# Features and output variables"
      ]
    },
    {
      "cell_type": "code",
      "metadata": {
        "id": "inFrjQyybA75"
      },
      "source": [
        "df['Date'] = pd.to_datetime(df['Date'], format='%Y-%m-%d')\n",
        "df['Date2num'] = df['Date'].apply(lambda x: mdates.date2num(x))\n",
        "\n",
        "X = df\n",
        "y = pd.DataFrame (df['Close'], columns = ['Close'])\n",
        "\n",
        "date = X.loc[:, ['Date']]"
      ],
      "execution_count": null,
      "outputs": []
    },
    {
      "cell_type": "markdown",
      "metadata": {
        "id": "2g9E4-J1cgtU"
      },
      "source": [
        "# Plot histotical data"
      ]
    },
    {
      "cell_type": "code",
      "metadata": {
        "id": "MAejR-TMoSqc"
      },
      "source": [
        "plot_data(X['Date'], None, y, 'Historical chart', symbol)"
      ],
      "execution_count": null,
      "outputs": []
    },
    {
      "cell_type": "markdown",
      "metadata": {
        "id": "ePvHb8YIf-Jf"
      },
      "source": [
        "# Train"
      ]
    },
    {
      "cell_type": "code",
      "metadata": {
        "id": "Koku2U9azEwQ"
      },
      "source": [
        "features = ['Date2num']\n",
        "X_input = X.loc[:, features]\n",
        "lr = predict(X_input, y, date)"
      ],
      "execution_count": null,
      "outputs": []
    },
    {
      "cell_type": "code",
      "metadata": {
        "id": "YPWbe8C23CWj"
      },
      "source": [
        "features = ['Date2num', 'Open']\n",
        "X_input = X.loc[:, features]\n",
        "lr = predict(X_input, y, date)"
      ],
      "execution_count": null,
      "outputs": []
    },
    {
      "cell_type": "code",
      "metadata": {
        "id": "rwxQZK5N34D1"
      },
      "source": [
        "features = ['Date2num', 'Open', 'High']\n",
        "X_input = X.loc[:, features]\n",
        "lr = predict(X_input, y, date)"
      ],
      "execution_count": null,
      "outputs": []
    },
    {
      "cell_type": "code",
      "metadata": {
        "id": "JUV8usP13-qS"
      },
      "source": [
        "features = ['Date2num', 'Open', 'High', 'Low']\n",
        "X_input = X.loc[:, features]\n",
        "lr = predict(X_input, y, date)"
      ],
      "execution_count": null,
      "outputs": []
    }
  ]
}